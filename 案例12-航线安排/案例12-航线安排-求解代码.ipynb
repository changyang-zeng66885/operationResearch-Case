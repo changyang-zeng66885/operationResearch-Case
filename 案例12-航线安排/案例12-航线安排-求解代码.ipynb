{
 "cells": [
  {
   "cell_type": "markdown",
   "id": "1d3ad4e0",
   "metadata": {},
   "source": [
    "# 【案例12】Braneast 航空公司的航线安排——参考求解"
   ]
  },
  {
   "cell_type": "code",
   "execution_count": 47,
   "id": "162e66a5",
   "metadata": {},
   "outputs": [],
   "source": [
    "# 定义节点之间的最大流量\n",
    "import numpy as np\n",
    "flow = np.zeros([3,3,14,14])\n",
    "#i ,j,ts,te = 1,1,8,9\n",
    "#print(flow[i-1][j-1][ts-8][te-8])\n",
    "\n",
    "# 航线的最大流量是1\n",
    "flow[0][1][10-8][12-8] = 1\n",
    "flow[0][1][14-8][16-8] = 1\n",
    "flow[0][2][11-8][14-8] = 1\n",
    "flow[0][2][15-8][18-8] = 1\n",
    "flow[1][0][10-8][12-8] = 1\n",
    "flow[1][0][16-8][18-8] = 1\n",
    "flow[1][2][9 -8][11-8] = 1\n",
    "flow[1][2][14-8][16-8] = 1\n",
    "flow[2][0][10-8][13-8] = 1\n",
    "flow[2][0][17-8][20-8] = 1\n",
    "flow[2][1][9 -8][11-8] = 1\n",
    "flow[2][1][14-8][16-8] = 1\n",
    "# 在机场内部的最大流量没有限制flow[i,i,t,t+1] = BIGM\n",
    "BIGM = 9999996\n",
    "for i in range(0,3):\n",
    "    for t in range(9,19):\n",
    "        flow[i][i][t-8][t+1 - 8] = BIGM\n",
    "flow[0][0][19-8][20-8] = BIGM\n",
    "# 从起始节点S出发去往各个节点的最大流量没有限制\n",
    "BIGM = 10000000\n",
    "flow[0][0][8-8][9-8] = BIGM\n",
    "flow[0][1][8-8][9-8] = BIGM\n",
    "flow[0][2][8-8][9-8] = BIGM\n",
    "# 到达结束节点E的边的最大流量没有限制\n",
    "flow[0][0][20-8][21-8] = BIGM\n",
    "flow[1][0][19-8][21-8] = BIGM\n",
    "flow[2][0][19-8][21-8] = BIGM\n",
    "# 其他边的最大流量为0（即这些边不存在）\n",
    "\n",
    "# 定义各条边的利润/成本\n",
    "revenue = np.zeros([3,3,14,14])\n",
    "# 各条航线的利润\n",
    "revenue[0][1][10-8][12-8] = 900-500\n",
    "revenue[0][1][14-8][16-8] = 800-450\n",
    "revenue[0][2][11-8][14-8] = 1100-600\n",
    "revenue[0][2][15-8][18-8] = 1200-650\n",
    "revenue[1][0][10-8][12-8] = 800-400\n",
    "revenue[1][0][16-8][18-8] = 1200-450\n",
    "revenue[1][2][9 -8][11-8] = 900-400\n",
    "revenue[1][2][14-8][16-8] = 600-350\n",
    "revenue[2][0][10-8][13-8] = 1500-700\n",
    "revenue[2][0][17-8][20-8] = 1800-900\n",
    "revenue[2][1][9 -8][11-8] = 1100-400\n",
    "revenue[2][1][14-8][16-8] = 900-350\n",
    "\n",
    "# for i in range(1,3+1):\n",
    "#     for ts in range(8,22):\n",
    "#         for te in range(8,22):\n",
    "#             for j in range(1,3+1):     \n",
    "#                 if flow[i-1][j-1][ts-8][te-8] >0:\n",
    "#                     print(f\"city {i} -> city {j} ,time :{ts}->{te},\\tRevenue = {revenue[i-1][j-1][ts-8][te-8]}\")"
   ]
  },
  {
   "cell_type": "markdown",
   "id": "4b721893",
   "metadata": {},
   "source": [
    "## 1.最小的飞机数量"
   ]
  },
  {
   "cell_type": "code",
   "execution_count": 48,
   "id": "f2ebc1b4",
   "metadata": {},
   "outputs": [
    {
     "name": "stdout",
     "output_type": "stream",
     "text": [
      "找到最优解\n"
     ]
    }
   ],
   "source": [
    "# 定义线性规划问题\n",
    "from pulp import *\n",
    "prob = LpProblem(\"Airlines\", LpMinimize)\n",
    "# 定义变量\n",
    "f = LpVariable.dicts(\"f\",[(i,j,ts,te) for i in range(1,3+1) for j in range(1,3+1) for ts in range(8,22) for te in range(8,22)],lowBound=0,cat='Integer')\n",
    "TotalAirplane = LpVariable(\"TotalAirplane\", lowBound=0, cat='Integer') \n",
    "TotalRevenue = LpVariable(\"TotalRevenue\",cat='Continuous')\n",
    "\n",
    "# 定义目标函数\n",
    "prob += TotalAirplane\n",
    "\n",
    "# 定义约束条件\n",
    "prob += TotalAirplane == lpSum(f[1,j,8,9] for j in range(1,3+1))\n",
    "prob += TotalRevenue == lpSum(f[i,j,ts,te] * revenue[i-1][j-1][ts-8][te-8] for i in range(1,3+1) for j in range(1,3+1) for ts in range(8,22) for te in range(8,22) if flow[i-1][j-1][ts-8][te-8] > 0 )\n",
    "\n",
    "# 边<i,j,ts,te>的流量不超过最大流量限制:\n",
    "for i in range(1,3+1):\n",
    "    for j in range(1,3+1):\n",
    "        for ts in range(8,21):\n",
    "            for te in range(8,21):\n",
    "                prob += f[i,j,ts,te] <= flow[i-1][j-1][ts-8][te-8]\n",
    "                prob += f[i,j,ts,te] >= 0\n",
    "                # 如果<i,j,ts,te>执行的是航线而不是在机场里面走\n",
    "                if flow[i-1][j-1][ts-8][te-8] == 1:\n",
    "                    prob += f[i,j,ts,te] == flow[i-1][j-1][ts-8][te-8]\n",
    "                    \n",
    "                \n",
    "# 除起始节点S和结束节点E外，其他的每个节点node[i,ts]的流入流量=流出流量 \n",
    "for i in range(1,3+1):\n",
    "    for ti in range(9,21):\n",
    "        prob += lpSum(f[h,i,th,ti] for h in range(1,4) for th in range(8,21)) == lpSum(f[i,j,ti,tj] for j in range(1,4) for tj in range(9,22) )\n",
    "\n",
    "# 起始节点S的流出流量=结束节点的流入流量\n",
    "prob += lpSum(f[1,j,8,9] for j in range(1,3)) == f[1,1,20,21] + f[2,1,19,21] + f[3,1,19,21]\n",
    "\n",
    "prob.solve()\n",
    "if LpStatus[prob.status] == \"Optimal\":  \n",
    "    print(\"找到最优解\")\n",
    "else:\n",
    "    print(\"No solution\")"
   ]
  },
  {
   "cell_type": "code",
   "execution_count": 49,
   "id": "a9777874",
   "metadata": {},
   "outputs": [
    {
     "name": "stdout",
     "output_type": "stream",
     "text": [
      "6.0\n"
     ]
    }
   ],
   "source": [
    "print(value(TotalAirplane))"
   ]
  },
  {
   "cell_type": "code",
   "execution_count": 50,
   "id": "74f348d2",
   "metadata": {},
   "outputs": [
    {
     "name": "stdout",
     "output_type": "stream",
     "text": [
      "Airline \t波士顿 -> \t纽约 \tdepart at 10:00  \tOK\n",
      "Airline \t波士顿 -> \t纽约 \tdepart at 14:00  \tOK\n",
      "Airline \t波士顿 -> \t华盛顿 \tdepart at 11:00  \tOK\n",
      "Airline \t波士顿 -> \t华盛顿 \tdepart at 15:00  \tOK\n",
      "Airline \t纽约 -> \t波士顿 \tdepart at 10:00  \tOK\n",
      "Airline \t纽约 -> \t波士顿 \tdepart at 16:00  \tOK\n",
      "Airline \t纽约 -> \t华盛顿 \tdepart at 9:00  \tOK\n",
      "Airline \t纽约 -> \t华盛顿 \tdepart at 14:00  \tOK\n",
      "Airline \t华盛顿 -> \t波士顿 \tdepart at 10:00  \tOK\n",
      "Airline \t华盛顿 -> \t波士顿 \tdepart at 17:00  \tOK\n",
      "Airline \t华盛顿 -> \t纽约 \tdepart at 9:00  \tOK\n",
      "Airline \t华盛顿 -> \t纽约 \tdepart at 14:00  \tOK\n"
     ]
    }
   ],
   "source": [
    "# 查看所有航线是否都正常运行\n",
    "for i in range(1,4):\n",
    "    for j in range(1,4):\n",
    "        for ts in range(9,20):\n",
    "            for te in range(9,21):\n",
    "                if flow[i-1][j-1][ts-8][te-8] == 1:\n",
    "                    status = \"OK\"\n",
    "                    if value(f[i,j,ts,te]) == 0:\n",
    "                        status = \"Canceled\"\n",
    "                    print(f\"Airline \\t{city[i-1]} -> \\t{city[j-1]} \\tdepart at {int(ts)}:00  \\t{status}\"  )"
   ]
  },
  {
   "cell_type": "markdown",
   "id": "9bb56b22",
   "metadata": {},
   "source": [
    "## 2. 最小的运营成本"
   ]
  },
  {
   "cell_type": "code",
   "execution_count": 51,
   "id": "9e564a1a",
   "metadata": {},
   "outputs": [
    {
     "name": "stdout",
     "output_type": "stream",
     "text": [
      "找到最优解\n"
     ]
    }
   ],
   "source": [
    "# 定义线性规划问题\n",
    "from pulp import *\n",
    "prob = LpProblem(\"Airlines2\", LpMaximize)\n",
    "# 定义变量\n",
    "f = LpVariable.dicts(\"f\",[(i,j,ts,te) for i in range(1,3+1) for j in range(1,3+1) for ts in range(8,22) for te in range(8,22)],lowBound=0,cat='Integer')\n",
    "TotalAirplane = LpVariable(\"TotalAirplane\", lowBound=0, cat='Integer') \n",
    "TotalRevenue = LpVariable(\"TotalRevenue\",cat='Continuous')\n",
    "\n",
    "# 定义目标函数\n",
    "prob += TotalRevenue\n",
    "\n",
    "# 定义约束条件\n",
    "prob += TotalAirplane == lpSum(f[1,j,8,9] for j in range(1,3+1))\n",
    "prob += TotalRevenue == lpSum(f[i,j,ts,te] * revenue[i-1][j-1][ts-8][te-8] for i in range(1,3+1) for j in range(1,3+1) for ts in range(8,22) for te in range(8,22) if flow[i-1][j-1][ts-8][te-8] > 0 )\n",
    "prob += TotalAirplane == 4\n",
    "\n",
    "# 边<i,j,ts,te>的流量不超过最大流量限制:\n",
    "for i in range(1,3+1):\n",
    "    for j in range(1,3+1):\n",
    "        for ts in range(8,21):\n",
    "            for te in range(8,21):\n",
    "                prob += f[i,j,ts,te] <= flow[i-1][j-1][ts-8][te-8]\n",
    "                prob += f[i,j,ts,te] >= 0\n",
    "                    \n",
    "                \n",
    "# 除起始节点S和结束节点E外，其他的每个节点node[i,ts]的流入流量=流出流量 \n",
    "for i in range(1,3+1):\n",
    "    for ti in range(9,21):\n",
    "        prob += lpSum(f[h,i,th,ti] for h in range(1,4) for th in range(8,21)) == lpSum(f[i,j,ti,tj] for j in range(1,4) for tj in range(9,22) )\n",
    "\n",
    "# 起始节点S的流出流量=结束节点的流入流量\n",
    "prob += lpSum(f[1,j,8,9] for j in range(1,3)) == f[1,1,20,21] + f[2,1,19,21] + f[3,1,19,21]\n",
    "\n",
    "prob.solve()\n",
    "if LpStatus[prob.status] == \"Optimal\":  \n",
    "    print(\"找到最优解\")\n",
    "else:\n",
    "    print(\"No solution\")"
   ]
  },
  {
   "cell_type": "code",
   "execution_count": 53,
   "id": "a906737a",
   "metadata": {},
   "outputs": [
    {
     "name": "stdout",
     "output_type": "stream",
     "text": [
      "5750.0\n"
     ]
    }
   ],
   "source": [
    "print(value(TotalRevenue))"
   ]
  },
  {
   "cell_type": "code",
   "execution_count": 54,
   "id": "62ff6aa7",
   "metadata": {},
   "outputs": [
    {
     "name": "stdout",
     "output_type": "stream",
     "text": [
      "Airline \t波士顿 -> \t纽约 \tdepart at 10:00  \tCanceled\n",
      "Airline \t波士顿 -> \t纽约 \tdepart at 14:00  \tOK\n",
      "Airline \t波士顿 -> \t华盛顿 \tdepart at 11:00  \tOK\n",
      "Airline \t波士顿 -> \t华盛顿 \tdepart at 15:00  \tOK\n",
      "Airline \t纽约 -> \t波士顿 \tdepart at 10:00  \tOK\n",
      "Airline \t纽约 -> \t波士顿 \tdepart at 16:00  \tOK\n",
      "Airline \t纽约 -> \t华盛顿 \tdepart at 9:00  \tCanceled\n",
      "Airline \t纽约 -> \t华盛顿 \tdepart at 14:00  \tOK\n",
      "Airline \t华盛顿 -> \t波士顿 \tdepart at 10:00  \tOK\n",
      "Airline \t华盛顿 -> \t波士顿 \tdepart at 17:00  \tOK\n",
      "Airline \t华盛顿 -> \t纽约 \tdepart at 9:00  \tOK\n",
      "Airline \t华盛顿 -> \t纽约 \tdepart at 14:00  \tOK\n"
     ]
    }
   ],
   "source": [
    "# 查看正常运行的航线\n",
    "city = [\"波士顿\",\"纽约\",\"华盛顿\"]\n",
    "for i in range(1,4):\n",
    "    for j in range(1,4):\n",
    "        for ts in range(9,20):\n",
    "            for te in range(9,21):\n",
    "                if flow[i-1][j-1][ts-8][te-8] == 1:\n",
    "                    status = \"OK\"\n",
    "                    if value(f[i,j,ts,te]) == 0:\n",
    "                        status = \"Canceled\"\n",
    "                    print(f\"Airline \\t{city[i-1]} -> \\t{city[j-1]} \\tdepart at {int(ts)}:00  \\t{status}\"  )\n",
    "                "
   ]
  },
  {
   "cell_type": "markdown",
   "id": "eaf1bf06",
   "metadata": {},
   "source": [
    "## 3.考虑飞机在机场的停机费用"
   ]
  },
  {
   "cell_type": "code",
   "execution_count": 55,
   "id": "c47c59a2",
   "metadata": {},
   "outputs": [],
   "source": [
    "# 在机场内部每小时的流动停机成本\n",
    "REST_COST = 50\n",
    "for i in range(0,3):\n",
    "    for t in range(9,19):\n",
    "        revenue[i][i][t-8][t+1 - 8] = -1*REST_COST\n",
    "revenue[0][0][19-8][20-8] = -1*REST_COST"
   ]
  },
  {
   "cell_type": "code",
   "execution_count": 56,
   "id": "1d5ceb99",
   "metadata": {},
   "outputs": [
    {
     "name": "stdout",
     "output_type": "stream",
     "text": [
      "找到最优解\n"
     ]
    }
   ],
   "source": [
    "# 定义线性规划问题\n",
    "from pulp import *\n",
    "prob = LpProblem(\"Airlines2\", LpMaximize)\n",
    "# 定义变量\n",
    "f = LpVariable.dicts(\"f\",[(i,j,ts,te) for i in range(1,3+1) for j in range(1,3+1) for ts in range(8,22) for te in range(8,22)],lowBound=0,cat='Integer')\n",
    "TotalAirplane = LpVariable(\"TotalAirplane\", lowBound=0, cat='Integer') \n",
    "TotalRevenue = LpVariable(\"TotalRevenue\",cat='Continuous')\n",
    "\n",
    "# 定义目标函数\n",
    "prob += TotalRevenue\n",
    "\n",
    "# 定义约束条件\n",
    "prob += TotalAirplane == lpSum(f[1,j,8,9] for j in range(1,3+1))\n",
    "prob += TotalRevenue == lpSum(f[i,j,ts,te] * revenue[i-1][j-1][ts-8][te-8] for i in range(1,3+1) for j in range(1,3+1) for ts in range(8,22) for te in range(8,22) if flow[i-1][j-1][ts-8][te-8] > 0 )\n",
    "prob += TotalAirplane == 4\n",
    "\n",
    "# 边<i,j,ts,te>的流量不超过最大流量限制:\n",
    "for i in range(1,3+1):\n",
    "    for j in range(1,3+1):\n",
    "        for ts in range(8,21):\n",
    "            for te in range(8,21):\n",
    "                prob += f[i,j,ts,te] <= flow[i-1][j-1][ts-8][te-8]\n",
    "                prob += f[i,j,ts,te] >= 0\n",
    "                    \n",
    "                \n",
    "# 除起始节点S和结束节点E外，其他的每个节点node[i,ts]的流入流量=流出流量 \n",
    "for i in range(1,3+1):\n",
    "    for ti in range(9,21):\n",
    "        prob += lpSum(f[h,i,th,ti] for h in range(1,4) for th in range(8,21)) == lpSum(f[i,j,ti,tj] for j in range(1,4) for tj in range(9,22) )\n",
    "\n",
    "# 起始节点S的流出流量=结束节点的流入流量\n",
    "prob += lpSum(f[1,j,8,9] for j in range(1,3)) == f[1,1,20,21] + f[2,1,19,21] + f[3,1,19,21]\n",
    "\n",
    "prob.solve()\n",
    "if LpStatus[prob.status] == \"Optimal\":  \n",
    "    print(\"找到最优解\")\n",
    "else:\n",
    "    print(\"No solution\")"
   ]
  },
  {
   "cell_type": "code",
   "execution_count": 57,
   "id": "72652de8",
   "metadata": {},
   "outputs": [
    {
     "name": "stdout",
     "output_type": "stream",
     "text": [
      "5100.0\n"
     ]
    }
   ],
   "source": [
    "print(value(TotalRevenue))"
   ]
  },
  {
   "cell_type": "code",
   "execution_count": 59,
   "id": "a7d284e1",
   "metadata": {},
   "outputs": [
    {
     "name": "stdout",
     "output_type": "stream",
     "text": [
      "Airline \t波士顿 -> \t纽约 \tdepart at 10:00  \tCanceled\n",
      "Airline \t波士顿 -> \t纽约 \tdepart at 14:00  \tOK\n",
      "Airline \t波士顿 -> \t华盛顿 \tdepart at 11:00  \tOK\n",
      "Airline \t波士顿 -> \t华盛顿 \tdepart at 15:00  \tOK\n",
      "Airline \t纽约 -> \t波士顿 \tdepart at 10:00  \tOK\n",
      "Airline \t纽约 -> \t波士顿 \tdepart at 16:00  \tOK\n",
      "Airline \t纽约 -> \t华盛顿 \tdepart at 9:00  \tCanceled\n",
      "Airline \t纽约 -> \t华盛顿 \tdepart at 14:00  \tOK\n",
      "Airline \t华盛顿 -> \t波士顿 \tdepart at 10:00  \tOK\n",
      "Airline \t华盛顿 -> \t波士顿 \tdepart at 17:00  \tOK\n",
      "Airline \t华盛顿 -> \t纽约 \tdepart at 9:00  \tOK\n",
      "Airline \t华盛顿 -> \t纽约 \tdepart at 14:00  \tOK\n"
     ]
    }
   ],
   "source": [
    "# 查看正常运行的航线\n",
    "city = [\"波士顿\",\"纽约\",\"华盛顿\"]\n",
    "for i in range(1,4):\n",
    "    for j in range(1,4):\n",
    "        for ts in range(9,20):\n",
    "            for te in range(9,21):\n",
    "                if flow[i-1][j-1][ts-8][te-8] == 1:\n",
    "                    status = \"OK\"\n",
    "                    if value(f[i,j,ts,te]) == 0:\n",
    "                        status = \"Canceled\"\n",
    "                    print(f\"Airline \\t{city[i-1]} -> \\t{city[j-1]} \\tdepart at {int(ts)}:00  \\t{status}\"  )           "
   ]
  },
  {
   "cell_type": "markdown",
   "id": "8d487651",
   "metadata": {},
   "source": [
    "可以看到,当停机成本上升时，总利润下降了"
   ]
  },
  {
   "cell_type": "code",
   "execution_count": null,
   "id": "5bb84719",
   "metadata": {},
   "outputs": [],
   "source": []
  }
 ],
 "metadata": {
  "kernelspec": {
   "display_name": "Python 3 (ipykernel)",
   "language": "python",
   "name": "python3"
  },
  "language_info": {
   "codemirror_mode": {
    "name": "ipython",
    "version": 3
   },
   "file_extension": ".py",
   "mimetype": "text/x-python",
   "name": "python",
   "nbconvert_exporter": "python",
   "pygments_lexer": "ipython3",
   "version": "3.10.9"
  }
 },
 "nbformat": 4,
 "nbformat_minor": 5
}
