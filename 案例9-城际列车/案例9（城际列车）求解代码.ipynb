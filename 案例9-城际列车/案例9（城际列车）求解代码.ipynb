{
 "cells": [
  {
   "cell_type": "markdown",
   "id": "458d5ad4",
   "metadata": {},
   "source": [
    "# 【案例9】城际列车的运行时刻安排——参考求解"
   ]
  },
  {
   "cell_type": "code",
   "execution_count": 20,
   "id": "176b54ad",
   "metadata": {},
   "outputs": [
    {
     "name": "stdout",
     "output_type": "stream",
     "text": [
      "UpTrains:\n"
     ]
    },
    {
     "data": {
      "text/html": [
       "<div>\n",
       "<style scoped>\n",
       "    .dataframe tbody tr th:only-of-type {\n",
       "        vertical-align: middle;\n",
       "    }\n",
       "\n",
       "    .dataframe tbody tr th {\n",
       "        vertical-align: top;\n",
       "    }\n",
       "\n",
       "    .dataframe thead th {\n",
       "        text-align: right;\n",
       "    }\n",
       "</style>\n",
       "<table border=\"1\" class=\"dataframe\">\n",
       "  <thead>\n",
       "    <tr style=\"text-align: right;\">\n",
       "      <th></th>\n",
       "      <th>车次</th>\n",
       "      <th>发车站</th>\n",
       "      <th>发车时间</th>\n",
       "      <th>到达站</th>\n",
       "      <th>到达时间</th>\n",
       "      <th>上下行</th>\n",
       "      <th>列车重量</th>\n",
       "    </tr>\n",
       "  </thead>\n",
       "  <tbody>\n",
       "    <tr>\n",
       "      <th>12</th>\n",
       "      <td>C2</td>\n",
       "      <td>B</td>\n",
       "      <td>379</td>\n",
       "      <td>A</td>\n",
       "      <td>409</td>\n",
       "      <td>上行</td>\n",
       "      <td>1</td>\n",
       "    </tr>\n",
       "    <tr>\n",
       "      <th>13</th>\n",
       "      <td>C4</td>\n",
       "      <td>B</td>\n",
       "      <td>393</td>\n",
       "      <td>A</td>\n",
       "      <td>426</td>\n",
       "      <td>上行</td>\n",
       "      <td>2</td>\n",
       "    </tr>\n",
       "    <tr>\n",
       "      <th>14</th>\n",
       "      <td>C6</td>\n",
       "      <td>B</td>\n",
       "      <td>446</td>\n",
       "      <td>A</td>\n",
       "      <td>476</td>\n",
       "      <td>上行</td>\n",
       "      <td>2</td>\n",
       "    </tr>\n",
       "    <tr>\n",
       "      <th>15</th>\n",
       "      <td>C8</td>\n",
       "      <td>B</td>\n",
       "      <td>557</td>\n",
       "      <td>A</td>\n",
       "      <td>594</td>\n",
       "      <td>上行</td>\n",
       "      <td>2</td>\n",
       "    </tr>\n",
       "    <tr>\n",
       "      <th>16</th>\n",
       "      <td>C10</td>\n",
       "      <td>B</td>\n",
       "      <td>609</td>\n",
       "      <td>A</td>\n",
       "      <td>639</td>\n",
       "      <td>上行</td>\n",
       "      <td>2</td>\n",
       "    </tr>\n",
       "    <tr>\n",
       "      <th>17</th>\n",
       "      <td>C12</td>\n",
       "      <td>B</td>\n",
       "      <td>677</td>\n",
       "      <td>A</td>\n",
       "      <td>707</td>\n",
       "      <td>上行</td>\n",
       "      <td>1</td>\n",
       "    </tr>\n",
       "    <tr>\n",
       "      <th>18</th>\n",
       "      <td>C14</td>\n",
       "      <td>B</td>\n",
       "      <td>721</td>\n",
       "      <td>A</td>\n",
       "      <td>751</td>\n",
       "      <td>上行</td>\n",
       "      <td>2</td>\n",
       "    </tr>\n",
       "    <tr>\n",
       "      <th>19</th>\n",
       "      <td>C16</td>\n",
       "      <td>B</td>\n",
       "      <td>781</td>\n",
       "      <td>A</td>\n",
       "      <td>811</td>\n",
       "      <td>上行</td>\n",
       "      <td>2</td>\n",
       "    </tr>\n",
       "    <tr>\n",
       "      <th>20</th>\n",
       "      <td>C18</td>\n",
       "      <td>B</td>\n",
       "      <td>837</td>\n",
       "      <td>A</td>\n",
       "      <td>867</td>\n",
       "      <td>上行</td>\n",
       "      <td>2</td>\n",
       "    </tr>\n",
       "    <tr>\n",
       "      <th>21</th>\n",
       "      <td>C20</td>\n",
       "      <td>B</td>\n",
       "      <td>941</td>\n",
       "      <td>A</td>\n",
       "      <td>971</td>\n",
       "      <td>上行</td>\n",
       "      <td>2</td>\n",
       "    </tr>\n",
       "    <tr>\n",
       "      <th>22</th>\n",
       "      <td>C22</td>\n",
       "      <td>B</td>\n",
       "      <td>974</td>\n",
       "      <td>A</td>\n",
       "      <td>1004</td>\n",
       "      <td>上行</td>\n",
       "      <td>1</td>\n",
       "    </tr>\n",
       "    <tr>\n",
       "      <th>23</th>\n",
       "      <td>C24</td>\n",
       "      <td>B</td>\n",
       "      <td>1093</td>\n",
       "      <td>A</td>\n",
       "      <td>1126</td>\n",
       "      <td>上行</td>\n",
       "      <td>2</td>\n",
       "    </tr>\n",
       "  </tbody>\n",
       "</table>\n",
       "</div>"
      ],
      "text/plain": [
       "     车次 发车站  发车时间 到达站  到达时间 上下行  列车重量\n",
       "12   C2   B   379   A   409  上行     1\n",
       "13   C4   B   393   A   426  上行     2\n",
       "14   C6   B   446   A   476  上行     2\n",
       "15   C8   B   557   A   594  上行     2\n",
       "16  C10   B   609   A   639  上行     2\n",
       "17  C12   B   677   A   707  上行     1\n",
       "18  C14   B   721   A   751  上行     2\n",
       "19  C16   B   781   A   811  上行     2\n",
       "20  C18   B   837   A   867  上行     2\n",
       "21  C20   B   941   A   971  上行     2\n",
       "22  C22   B   974   A  1004  上行     1\n",
       "23  C24   B  1093   A  1126  上行     2"
      ]
     },
     "metadata": {},
     "output_type": "display_data"
    },
    {
     "name": "stdout",
     "output_type": "stream",
     "text": [
      "DownTrains:\n"
     ]
    },
    {
     "data": {
      "text/html": [
       "<div>\n",
       "<style scoped>\n",
       "    .dataframe tbody tr th:only-of-type {\n",
       "        vertical-align: middle;\n",
       "    }\n",
       "\n",
       "    .dataframe tbody tr th {\n",
       "        vertical-align: top;\n",
       "    }\n",
       "\n",
       "    .dataframe thead th {\n",
       "        text-align: right;\n",
       "    }\n",
       "</style>\n",
       "<table border=\"1\" class=\"dataframe\">\n",
       "  <thead>\n",
       "    <tr style=\"text-align: right;\">\n",
       "      <th></th>\n",
       "      <th>车次</th>\n",
       "      <th>发车站</th>\n",
       "      <th>发车时间</th>\n",
       "      <th>到达站</th>\n",
       "      <th>到达时间</th>\n",
       "      <th>上下行</th>\n",
       "      <th>列车重量</th>\n",
       "    </tr>\n",
       "  </thead>\n",
       "  <tbody>\n",
       "    <tr>\n",
       "      <th>0</th>\n",
       "      <td>C1</td>\n",
       "      <td>A</td>\n",
       "      <td>375</td>\n",
       "      <td>B</td>\n",
       "      <td>415</td>\n",
       "      <td>下行</td>\n",
       "      <td>1</td>\n",
       "    </tr>\n",
       "    <tr>\n",
       "      <th>1</th>\n",
       "      <td>C3</td>\n",
       "      <td>A</td>\n",
       "      <td>513</td>\n",
       "      <td>B</td>\n",
       "      <td>543</td>\n",
       "      <td>下行</td>\n",
       "      <td>2</td>\n",
       "    </tr>\n",
       "    <tr>\n",
       "      <th>2</th>\n",
       "      <td>C5</td>\n",
       "      <td>A</td>\n",
       "      <td>571</td>\n",
       "      <td>B</td>\n",
       "      <td>601</td>\n",
       "      <td>下行</td>\n",
       "      <td>1</td>\n",
       "    </tr>\n",
       "    <tr>\n",
       "      <th>3</th>\n",
       "      <td>C7</td>\n",
       "      <td>A</td>\n",
       "      <td>613</td>\n",
       "      <td>B</td>\n",
       "      <td>650</td>\n",
       "      <td>下行</td>\n",
       "      <td>2</td>\n",
       "    </tr>\n",
       "    <tr>\n",
       "      <th>4</th>\n",
       "      <td>C9</td>\n",
       "      <td>A</td>\n",
       "      <td>668</td>\n",
       "      <td>B</td>\n",
       "      <td>698</td>\n",
       "      <td>下行</td>\n",
       "      <td>1</td>\n",
       "    </tr>\n",
       "    <tr>\n",
       "      <th>5</th>\n",
       "      <td>C11</td>\n",
       "      <td>A</td>\n",
       "      <td>732</td>\n",
       "      <td>B</td>\n",
       "      <td>762</td>\n",
       "      <td>下行</td>\n",
       "      <td>1</td>\n",
       "    </tr>\n",
       "    <tr>\n",
       "      <th>6</th>\n",
       "      <td>C13</td>\n",
       "      <td>A</td>\n",
       "      <td>771</td>\n",
       "      <td>B</td>\n",
       "      <td>801</td>\n",
       "      <td>下行</td>\n",
       "      <td>2</td>\n",
       "    </tr>\n",
       "    <tr>\n",
       "      <th>7</th>\n",
       "      <td>C15</td>\n",
       "      <td>A</td>\n",
       "      <td>891</td>\n",
       "      <td>B</td>\n",
       "      <td>921</td>\n",
       "      <td>下行</td>\n",
       "      <td>1</td>\n",
       "    </tr>\n",
       "    <tr>\n",
       "      <th>8</th>\n",
       "      <td>C17</td>\n",
       "      <td>A</td>\n",
       "      <td>908</td>\n",
       "      <td>B</td>\n",
       "      <td>938</td>\n",
       "      <td>下行</td>\n",
       "      <td>1</td>\n",
       "    </tr>\n",
       "    <tr>\n",
       "      <th>9</th>\n",
       "      <td>C19</td>\n",
       "      <td>A</td>\n",
       "      <td>1042</td>\n",
       "      <td>B</td>\n",
       "      <td>1072</td>\n",
       "      <td>下行</td>\n",
       "      <td>2</td>\n",
       "    </tr>\n",
       "    <tr>\n",
       "      <th>10</th>\n",
       "      <td>C21</td>\n",
       "      <td>A</td>\n",
       "      <td>1119</td>\n",
       "      <td>B</td>\n",
       "      <td>1152</td>\n",
       "      <td>下行</td>\n",
       "      <td>2</td>\n",
       "    </tr>\n",
       "    <tr>\n",
       "      <th>11</th>\n",
       "      <td>C23</td>\n",
       "      <td>A</td>\n",
       "      <td>1257</td>\n",
       "      <td>B</td>\n",
       "      <td>1290</td>\n",
       "      <td>下行</td>\n",
       "      <td>1</td>\n",
       "    </tr>\n",
       "  </tbody>\n",
       "</table>\n",
       "</div>"
      ],
      "text/plain": [
       "     车次 发车站  发车时间 到达站  到达时间 上下行  列车重量\n",
       "0    C1   A   375   B   415  下行     1\n",
       "1    C3   A   513   B   543  下行     2\n",
       "2    C5   A   571   B   601  下行     1\n",
       "3    C7   A   613   B   650  下行     2\n",
       "4    C9   A   668   B   698  下行     1\n",
       "5   C11   A   732   B   762  下行     1\n",
       "6   C13   A   771   B   801  下行     2\n",
       "7   C15   A   891   B   921  下行     1\n",
       "8   C17   A   908   B   938  下行     1\n",
       "9   C19   A  1042   B  1072  下行     2\n",
       "10  C21   A  1119   B  1152  下行     2\n",
       "11  C23   A  1257   B  1290  下行     1"
      ]
     },
     "metadata": {},
     "output_type": "display_data"
    },
    {
     "name": "stdout",
     "output_type": "stream",
     "text": [
      "上行线路12条，下行线路12条\n"
     ]
    }
   ],
   "source": [
    "# 输入参数\n",
    "import pandas as pd\n",
    "import numpy as np\n",
    "train_data = pd.read_excel(\"case_1_data.xlsx\")\n",
    "\n",
    "# 将时间转化为分钟为单位\n",
    "train_data['发车时间'] = pd.to_datetime(train_data['发车时间'].astype(str), format='%H:%M:%S').dt.hour * 60 + pd.to_datetime(train_data['发车时间'].astype(str), format='%H:%M:%S').dt.minute\n",
    "train_data['到达时间'] = pd.to_datetime(train_data['到达时间'].astype(str), format='%H:%M:%S').dt.hour * 60 + pd.to_datetime(train_data['到达时间'].astype(str), format='%H:%M:%S').dt.minute\n",
    "uptrain = train_data[train_data['上下行']=='上行'].head(12)\n",
    "downtrain = train_data[train_data['上下行']=='下行'].head(12)\n",
    "print(\"UpTrains:\")\n",
    "display(uptrain)\n",
    "print(\"DownTrains:\")\n",
    "display(downtrain)\n",
    "\n",
    "\n",
    "# 上下行线路数量\n",
    "M = len(uptrain['发车时间'])\n",
    "N = len(downtrain['发车时间'])\n",
    "print(f\"上行线路{M}条，下行线路{N}条\")\n",
    "\n",
    "# 机车的牵引重量\n",
    "weight = [1,2,1,2,2,2,2,2,2]\n",
    "MOTIVE_NUM = len(weight)\n",
    "\n",
    "# 上下行线路所需的重量\n",
    "weight_trainup = list(uptrain['列车重量'])\n",
    "weight_traindown = list(downtrain['列车重量'])\n",
    "\n",
    "#上行线路i实际的出发时间t_i_smin t_i_smax ，到达时间t_i_emin t_i_emax在公布时刻表的T_DELTA = 2分钟之内调整\n",
    "T_DELTA = 2\n",
    "ti_smin = [t-T_DELTA for t in  list(uptrain['发车时间'])]\n",
    "ti_smax = [t+T_DELTA for t in  list(uptrain['发车时间'])]\n",
    "ti_emin = [t-T_DELTA for t in  list(uptrain['到达时间'])]\n",
    "ti_emax = [t+T_DELTA for t in  list(uptrain['到达时间'])]\n",
    "# 下行列车同理：\n",
    "tj_smin = [t-T_DELTA for t in  list(downtrain['发车时间'])]\n",
    "tj_smax = [t+T_DELTA for t in  list(downtrain['发车时间'])]\n",
    "tj_emin = [t-T_DELTA for t in  list(downtrain['到达时间'])]\n",
    "tj_emax = [t+T_DELTA for t in  list(downtrain['到达时间'])]\n",
    "\n",
    "\n",
    "# 技术等待时间\n",
    "theta_i = 20\n",
    "theta_j = 30\n",
    "\n",
    "# 最小列车间隔12分钟\n",
    "H_UP_MIN = 12\n",
    "H_DOWN_MIN = 12\n"
   ]
  },
  {
   "cell_type": "code",
   "execution_count": 2,
   "id": "e5362148",
   "metadata": {},
   "outputs": [
    {
     "name": "stdout",
     "output_type": "stream",
     "text": [
      "6:00\n"
     ]
    }
   ],
   "source": [
    "# 将浮点数转换为时间\n",
    "def min2time(minutes):\n",
    "    minutes = int(minutes) \n",
    "    hours = minutes // 60\n",
    "    minutes = minutes % 60\n",
    "    return f\"{hours}:{minutes:02d}\"\n",
    "# 以360分钟为例\n",
    "minutes = 360.0\n",
    "time = min2time(minutes)\n",
    "print(time)"
   ]
  },
  {
   "cell_type": "markdown",
   "id": "b6d3bdfe",
   "metadata": {},
   "source": [
    "## 1. 求解最小车辆数量（求解时间约50秒）"
   ]
  },
  {
   "cell_type": "code",
   "execution_count": 25,
   "id": "8838354a",
   "metadata": {},
   "outputs": [
    {
     "name": "stdout",
     "output_type": "stream",
     "text": [
      "找到最优解\n"
     ]
    }
   ],
   "source": [
    "# 求解问题-最小车辆数量\n",
    "from pulp import *\n",
    "prob = LpProblem(\"train\", LpMinimize)\n",
    "\n",
    "# 创建变量\n",
    "# x_up[ijk] 机车k执行上行线路i后执行下行线路j（包括出库（i=0->j）选择回库（i=?->j=N+1））\n",
    "x_up = LpVariable.dicts('x_up', [(i,j,k) for i in range(0, M+1) for j in range(1, N+2) for k in range(1,MOTIVE_NUM+1) ], cat='Binary')\n",
    "# x_down[jik] 机车k执行下行线路j后执行上行线路i（包括出库（j=0->i=?）选择回库（j=?->i=M+1））\n",
    "x_down = LpVariable.dicts('x_down', [(j,i,k) for j in range(0, N+1) for i in range(1, M+2) for k in range(1,MOTIVE_NUM+1) ], cat='Binary')\n",
    "\n",
    "#xe[k] 机车k是否执行任务\n",
    "xe = LpVariable.dicts('xe',[k for k in range(1,MOTIVE_NUM+1)],cat='Binary')\n",
    "\n",
    "# 上行线路i的实际发车时间ti_s，到达时间ti_e\n",
    "ti_s = LpVariable.dicts(\"ti_s\", range(1, M+1), cat='Continuous')\n",
    "ti_e = LpVariable.dicts(\"ti_e\", range(1, M+1), cat='Continuous')\n",
    "# 下行线路j的实际发车时间tj_s，到达时间tj_e\n",
    "tj_s = LpVariable.dicts(\"tj_s\", range(1, N+1), cat='Continuous')\n",
    "tj_e = LpVariable.dicts(\"tj_e\", range(1, N+1), cat='Continuous')\n",
    "#x_up[i,j,k] :x_up[i,j,k]的的辅助变量AAA\n",
    "y_up = LpVariable.dicts(\"y_up\",[(i,j,k) for i in range(1,M+1) for j in range(1,N+1) for k in range(1,MOTIVE_NUM+1)],cat='Continuous')\n",
    "# y_down[j,i,k]:x_down[j,i,k]的辅助变量AAA\n",
    "y_down = LpVariable.dicts(\"y_down\",[(j,i,k) for j in range(1,N+1) for i in range(1,M+1) for k in range(1,MOTIVE_NUM+1)],cat='Continuous')\n",
    "\n",
    "TotalMotive = LpVariable(\"TotalMotive\", lowBound=0, cat='Continuous') \n",
    "TotalWait = LpVariable(\"TotalWait\",lowBound = 0,cat='Continuous')\n",
    "\n",
    "\n",
    "# 定义问题\n",
    "prob += TotalMotive\n",
    "\n",
    "# 定义约束\n",
    "prob += TotalMotive == lpSum(xe[k] for k in range(1,MOTIVE_NUM+1) )\n",
    "prob += TotalMotive >= 0\n",
    "prob += TotalWait == lpSum(y_up[i,j,k] for k in range(1,MOTIVE_NUM+1) for i in range(1,M+1) for j in range(1,N+1)) + lpSum( y_down[j,i,k] for j in range(1,N+1) for i in range(1,M+1) for k in range(1,MOTIVE_NUM+1))\n",
    "BIGM = 999999999\n",
    "for i in range(1,M+1):\n",
    "    for j in range(1,N+1):\n",
    "        for k in range(1,MOTIVE_NUM+1):\n",
    "            prob += y_up[i,j,k] <= BIGM*x_up[i,j,k]\n",
    "            prob += y_up[i,j,k]-(tj_s[j]-ti_e[i]) <= BIGM * (1-x_up[i,j,k])\n",
    "            prob += y_up[i,j,k]-(tj_s[j]-ti_e[i]) >= BIGM * (x_up[i,j,k]-1)\n",
    "            prob += y_up[i,j,k] >= 0\n",
    "            \n",
    "            prob += y_down[j,i,k] <= BIGM*x_down[j,i,k]\n",
    "            prob += y_down[j,i,k]-(ti_s[i]-tj_e[j]) <= BIGM * (1-x_down[j,i,k])\n",
    "            prob += y_down[j,i,k]-(ti_s[i]-tj_e[j]) >= BIGM * (x_down[j,i,k]-1)\n",
    "            prob += y_down[j,i,k] >= 0\n",
    "                           \n",
    "#执行上行线路i前必须且仅有一个下行线路j（包括从上行线出库的情况）\n",
    "for i in range(1,M+1):\n",
    "    prob += lpSum(x_down[j,i,k] for k in range(1,MOTIVE_NUM+1) for j in range(0,N+1)) == 1\n",
    "# 执行下行线路j前必须且仅有一个上行线路i（包括从下行线出库的情况）\n",
    "for j in range(1,N+1):\n",
    "    prob += lpSum(x_up[i,j,k] for k in range(1,MOTIVE_NUM+1) for i in range(0,M+1)) == 1\n",
    "    \n",
    "# 列车的运行线路是连续的\n",
    "for k in range(1,MOTIVE_NUM+1):\n",
    "    for j in range(1,N+1):\n",
    "        prob += lpSum(x_up[i,j,k] for i in range(0,M+1)) <= lpSum(x_down[j,i,k] for i in range(1,M+2))\n",
    "    for i in range(1,M+1):\n",
    "        prob += lpSum(x_down[j,i,k] for j in range(0,N+1)) <= lpSum(x_up[i,j,k] for j in range(1,N+2))\n",
    "\n",
    "# 出库的车辆等于入库的车辆\n",
    "for k in range(1,MOTIVE_NUM+1):\n",
    "    prob += lpSum(x_up[0,j,k] for j in range(1,N+2))+lpSum(x_down[0,i,k] for i in range(1,M+2)) == xe[k]\n",
    "    prob += lpSum(x_up[i,N+1,k] for i in range(0,M+1))+lpSum(x_down[j,M+1,k] for j in range(0,N+1)) == xe[k]\n",
    "\n",
    "# 如果列车k不上线运行，则任意x_up[i,j,k],x_down[j,i,k]=0\n",
    "for k in range(1,MOTIVE_NUM + 1):\n",
    "    for i in range(0,M+1):\n",
    "        for j in range(1,N+2):\n",
    "            prob += x_up[i,j,k] <= xe[k]\n",
    "    for j in range(0,N+1):\n",
    "        for i in range(1,M+2):\n",
    "            prob += x_down[j,i,k] <= xe[k]\n",
    "\n",
    "#时光不能倒流，执行下一次列车的最晚出发时间不能晚于上一次列车的最早到达时间+准备时间\n",
    "for i in range(1,M+1):\n",
    "    for j in range(1,N+1):\n",
    "        if ti_emin[i-1] + theta_j  > tj_smax[j-1] :\n",
    "            # print(f\"上行{i}最早到达时间{ti_emin[i-1]},下行{j}最晚出发时间{tj_smax[j-1]} \")\n",
    "            for k in range(1,MOTIVE_NUM+1):\n",
    "                prob += x_up[i,j,k] == 0\n",
    "        if tj_emin[j-1] + theta_i  > ti_smax[i-1]:\n",
    "            # print(f\"下行{j}最早到达时间{tj_emin[j-1]},上行{i}最晚出发时间{ti_smax[i-1]}\")\n",
    "            for k in range(1,MOTIVE_NUM+1):\n",
    "                prob += x_down[j,i,k] == 0\n",
    "            \n",
    "#每辆车执行的任务数量<=8\n",
    "for k in range (1,MOTIVE_NUM+1):\n",
    "    prob += lpSum(x_up[i,j,k] for i in range(0,M+1) for j in range(1,N+2)) + lpSum(x_down[j,i,k] for i in range(1,M+2) for j in range(0,N+1)) <= 8\n",
    "    \n",
    "# 列车发车与到达的时间限制\n",
    "for i in range(1,M+1):\n",
    "    prob += ti_s[i] <= ti_smax[i-1]\n",
    "    prob += ti_smin[i-1] <= ti_s[i]\n",
    "    prob += ti_e[i] <= ti_emax[i-1]\n",
    "    prob += ti_emin[i-1] <= ti_e[i]\n",
    "for j in range(1,N+1):\n",
    "    prob += tj_s[j] <= tj_smax[j-1]\n",
    "    prob += tj_smin[j-1] <= tj_s[j]\n",
    "    prob += tj_e[j] <= tj_emax[j-1]\n",
    "    prob += tj_emin[j-1] <= tj_e[j]\n",
    "    \n",
    "# 最小时间间隔限制\n",
    "for i in range(1,M):\n",
    "    prob += ti_s[i+1] - ti_s[i] >= H_UP_MIN\n",
    "    prob += ti_e[i+1] - ti_e[i] >= H_UP_MIN\n",
    "for j in range(1,N):\n",
    "    prob += tj_s[j+1] - tj_s[j] >= H_DOWN_MIN\n",
    "    prob += tj_e[j+1] - tj_e[j] >= H_DOWN_MIN    \n",
    "\n",
    "# 牵引重量限制\n",
    "for i in range(1,M+1):\n",
    "    prob += lpSum(weight[k-1]*x_up[i,j,k] for k in range(1,MOTIVE_NUM+1) for j in range(1,N+2)) >= weight_trainup[i-1]\n",
    "    \n",
    "# 牵引重量限制\n",
    "for j in range(1,N+1):\n",
    "    prob += lpSum(weight[k-1]*x_down[j,i,k] for k in range(1,MOTIVE_NUM+1) for i in range(1,M+2)) >= weight_traindown[j-1]\n",
    "\n",
    "# 求解问题\n",
    "prob.solve()\n",
    "\n",
    "if LpStatus[prob.status] == \"Optimal\":  \n",
    "    print(\"找到最优解\")\n",
    "else:\n",
    "    print(\"No solution\")"
   ]
  },
  {
   "cell_type": "code",
   "execution_count": 26,
   "id": "319f03b2",
   "metadata": {},
   "outputs": [
    {
     "name": "stdout",
     "output_type": "stream",
     "text": [
      "Best Motive number:4.0\n",
      "Shorest wait time:1747.0\n",
      "Train 1:\n"
     ]
    },
    {
     "data": {
      "text/plain": [
       "<Figure size 800x200 with 0 Axes>"
      ]
     },
     "metadata": {},
     "output_type": "display_data"
    },
    {
     "name": "stdout",
     "output_type": "stream",
     "text": [
      "Train 2:\n",
      "执行线路C11（down j=6）,离开A时间:12:10 到达B时间12:40 \n",
      "执行线路C19（down j=10）,离开A时间:17:20 到达B时间17:50 \n",
      "执行线路C23（down j=12）,离开A时间:20:55 到达B时间21:28 \n",
      "执行线路C8（up i=4）, 离开B时间:9:15 到达A时间9:52 \n",
      "执行线路C20（up i=10）, 离开B时间:15:39 到达A时间16:13 \n",
      "执行线路C24（up i=12）, 离开B时间:18:11 到达A时间18:48 \n"
     ]
    },
    {
     "data": {
      "image/png": "[encoded data removed]",
      "text/plain": [
       "<Figure size 800x200 with 1 Axes>"
      ]
     },
     "metadata": {},
     "output_type": "display_data"
    },
    {
     "name": "stdout",
     "output_type": "stream",
     "text": [
      "Train 3:\n"
     ]
    },
    {
     "data": {
      "text/plain": [
       "<Figure size 800x200 with 0 Axes>"
      ]
     },
     "metadata": {},
     "output_type": "display_data"
    },
    {
     "name": "stdout",
     "output_type": "stream",
     "text": [
      "Train 4:\n",
      "执行线路C7（down j=4）,离开A时间:10:11 到达B时间10:52 \n",
      "执行线路C13（down j=7）,离开A时间:12:49 到达B时间13:19 \n",
      "执行线路C2（up i=1）, 离开B时间:6:17 到达A时间6:47 \n",
      "执行线路C12（up i=6）, 离开B时间:11:15 到达A时间11:49 \n",
      "执行线路C18（up i=9）, 离开B时间:13:55 到达A时间14:25 \n"
     ]
    },
    {
     "data": {
      "image/png": "[encoded data removed]",
      "text/plain": [
       "<Figure size 800x200 with 1 Axes>"
      ]
     },
     "metadata": {},
     "output_type": "display_data"
    },
    {
     "name": "stdout",
     "output_type": "stream",
     "text": [
      "Train 5:\n",
      "执行线路C1（down j=1）,离开A时间:6:13 到达B时间6:53 \n",
      "执行线路C3（down j=2）,离开A时间:8:31 到达B时间9:01 \n",
      "执行线路C9（down j=5）,离开A时间:11:06 到达B时间11:36 \n",
      "执行线路C17（down j=9）,离开A时间:15:06 到达B时间15:36 \n",
      "执行线路C6（up i=3）, 离开B时间:7:24 到达A时间7:58 \n",
      "执行线路C10（up i=5）, 离开B时间:10:07 到达A时间10:41 \n",
      "执行线路C16（up i=8）, 离开B时间:12:59 到达A时间13:29 \n"
     ]
    },
    {
     "data": {
      "image/png": "[encoded data removed]",
      "text/plain": [
       "<Figure size 800x200 with 1 Axes>"
      ]
     },
     "metadata": {},
     "output_type": "display_data"
    },
    {
     "name": "stdout",
     "output_type": "stream",
     "text": [
      "Train 6:\n"
     ]
    },
    {
     "data": {
      "text/plain": [
       "<Figure size 800x200 with 0 Axes>"
      ]
     },
     "metadata": {},
     "output_type": "display_data"
    },
    {
     "name": "stdout",
     "output_type": "stream",
     "text": [
      "Train 7:\n"
     ]
    },
    {
     "data": {
      "text/plain": [
       "<Figure size 800x200 with 0 Axes>"
      ]
     },
     "metadata": {},
     "output_type": "display_data"
    },
    {
     "name": "stdout",
     "output_type": "stream",
     "text": [
      "Train 8:\n"
     ]
    },
    {
     "data": {
      "text/plain": [
       "<Figure size 800x200 with 0 Axes>"
      ]
     },
     "metadata": {},
     "output_type": "display_data"
    },
    {
     "name": "stdout",
     "output_type": "stream",
     "text": [
      "Train 9:\n",
      "执行线路C5（down j=3）,离开A时间:9:29 到达B时间10:03 \n",
      "执行线路C15（down j=8）,离开A时间:14:49 到达B时间15:23 \n",
      "执行线路C21（down j=11）,离开A时间:18:37 到达B时间19:10 \n",
      "执行线路C4（up i=2）, 离开B时间:6:35 到达A时间7:04 \n",
      "执行线路C14（up i=7）, 离开B时间:11:59 到达A时间12:33 \n",
      "执行线路C22（up i=11）, 离开B时间:16:12 到达A时间16:46 \n"
     ]
    },
    {
     "data": {
      "image/png": "[encoded data removed]",
      "text/plain": [
       "<Figure size 800x200 with 1 Axes>"
      ]
     },
     "metadata": {},
     "output_type": "display_data"
    }
   ],
   "source": [
    "# 最小车辆数量\n",
    "print(f\"Best Motive number:{value(TotalMotive)}\")\n",
    "print(f\"Shorest wait time:{value(TotalWait)}\")\n",
    "import matplotlib.pyplot as plt\n",
    "if LpStatus[prob.status] == \"Optimal\":\n",
    "    for k in range(1,MOTIVE_NUM+1):\n",
    "        print(f\"Train {k}:\")\n",
    "        plt.figure(figsize = (8,2))\n",
    "        for i in range(0,M+1):\n",
    "            for j in range(1, N+1):\n",
    "                if value(x_up[i,j,k]) == 1:\n",
    "                    # 绘制带箭头的线段\n",
    "                    dx = value(tj_e[j]) - value(tj_s[j])\n",
    "                    dy = -2\n",
    "                    plt.arrow(value(tj_s[j]), 2, dx, dy, head_width=0.1, head_length=0.5, fc='red', ec='red')\n",
    "                    # 添加文字标签\n",
    "                    plt.text(value(tj_s[j])+dx/2, 1, f\"{downtrain.iloc[j-1]['车次']}\", ha='center', va='center')\n",
    "                    print(f\"执行线路{downtrain.iloc[j-1]['车次']}（down j={j}）,离开A时间:{min2time(value(tj_s[j]))} 到达B时间{min2time(value(tj_e[j]))} \")\n",
    "        for j in range(0,N+1):\n",
    "            for i in range(1, M+1):\n",
    "                if value(x_down[j,i,k]) == 1:\n",
    "                    # 绘制带箭头的线段\n",
    "                    dx = value(ti_e[i]) - value(ti_s[i])\n",
    "                    dy = 2\n",
    "                    plt.arrow(value(ti_s[i]), 0, dx, dy, head_width=0.1, head_length=0.5, fc='green', ec='green')\n",
    "                    plt.text(value(ti_s[i])+dx/2, 1, f\"{uptrain.iloc[i-1]['车次']}\", ha='center', va='center')\n",
    "                    print(f\"执行线路{uptrain.iloc[i-1]['车次']}（up i={i}）, 离开B时间:{min2time(value(ti_s[i]))} 到达A时间{min2time(value(ti_e[i]))} \")\n",
    "        plt.show()\n",
    "else:\n",
    "    print(\"No solution\")"
   ]
  },
  {
   "cell_type": "markdown",
   "id": "1e1891a2",
   "metadata": {},
   "source": [
    "## 2. 在知道最小车辆数=4的情况下，求解最短怠速时间（求解时间约25分钟）"
   ]
  },
  {
   "cell_type": "code",
   "execution_count": 23,
   "id": "0924ec0d",
   "metadata": {},
   "outputs": [
    {
     "name": "stdout",
     "output_type": "stream",
     "text": [
      "找到最优解\n"
     ]
    }
   ],
   "source": [
    "# 求解问题-最小怠速时间\n",
    "from pulp import *\n",
    "prob = LpProblem(\"train\", LpMinimize)\n",
    "\n",
    "# 创建变量\n",
    "# x_up[ijk] 机车k执行上行线路i后执行下行线路j（包括出库（i=0->j）选择回库（i=?->j=N+1））\n",
    "x_up = LpVariable.dicts('x_up', [(i,j,k) for i in range(0, M+1) for j in range(1, N+2) for k in range(1,MOTIVE_NUM+1) ], cat='Binary')\n",
    "# x_down[jik] 机车k执行下行线路j后执行上行线路i（包括出库（j=0->i=?）选择回库（j=?->i=M+1））\n",
    "x_down = LpVariable.dicts('x_down', [(j,i,k) for j in range(0, N+1) for i in range(1, M+2) for k in range(1,MOTIVE_NUM+1) ], cat='Binary')\n",
    "\n",
    "#xe[k] 机车k是否执行任务\n",
    "xe = LpVariable.dicts('xe',[k for k in range(1,MOTIVE_NUM+1)],cat='Binary')\n",
    "\n",
    "# 上行线路i的实际发车时间ti_s，到达时间ti_e\n",
    "ti_s = LpVariable.dicts(\"ti_s\", range(1, M+1), cat='Continuous')\n",
    "ti_e = LpVariable.dicts(\"ti_e\", range(1, M+1), cat='Continuous')\n",
    "# 下行线路j的实际发车时间tj_s，到达时间tj_e\n",
    "tj_s = LpVariable.dicts(\"tj_s\", range(1, N+1), cat='Continuous')\n",
    "tj_e = LpVariable.dicts(\"tj_e\", range(1, N+1), cat='Continuous')\n",
    "#x_up[i,j,k] :x_up[i,j,k]的的辅助变量AAA\n",
    "y_up = LpVariable.dicts(\"y_up\",[(i,j,k) for i in range(1,M+1) for j in range(1,N+1) for k in range(1,MOTIVE_NUM+1)],cat='Continuous')\n",
    "# y_down[j,i,k]:x_down[j,i,k]的辅助变量AAA\n",
    "y_down = LpVariable.dicts(\"y_down\",[(j,i,k) for j in range(1,N+1) for i in range(1,M+1) for k in range(1,MOTIVE_NUM+1)],cat='Continuous')\n",
    "\n",
    "TotalMotive = LpVariable(\"TotalMotive\", lowBound=0, cat='Continuous') \n",
    "TotalWait = LpVariable(\"TotalWait\",lowBound = 0,cat='Continuous')\n",
    "\n",
    "\n",
    "# 定义问题\n",
    "prob += TotalWait\n",
    "\n",
    "# 定义约束\n",
    "prob += TotalMotive == lpSum(xe[k] for k in range(1,MOTIVE_NUM+1) )\n",
    "prob += TotalMotive <= 4\n",
    "prob += TotalWait == lpSum(y_up[i,j,k] for k in range(1,MOTIVE_NUM+1) for i in range(1,M+1) for j in range(1,N+1)) + lpSum( y_down[j,i,k] for j in range(1,N+1) for i in range(1,M+1) for k in range(1,MOTIVE_NUM+1))\n",
    "BIGM = 999999999\n",
    "for i in range(1,M+1):\n",
    "    for j in range(1,N+1):\n",
    "        for k in range(1,MOTIVE_NUM+1):\n",
    "            prob += y_up[i,j,k] <= BIGM*x_up[i,j,k]\n",
    "            prob += y_up[i,j,k]-(tj_s[j]-ti_e[i]) <= BIGM * (1-x_up[i,j,k])\n",
    "            prob += y_up[i,j,k]-(tj_s[j]-ti_e[i]) >= BIGM * (x_up[i,j,k]-1)\n",
    "            prob += y_up[i,j,k] >= 0\n",
    "            \n",
    "            prob += y_down[j,i,k] <= BIGM*x_down[j,i,k]\n",
    "            prob += y_down[j,i,k]-(ti_s[i]-tj_e[j]) <= BIGM * (1-x_down[j,i,k])\n",
    "            prob += y_down[j,i,k]-(ti_s[i]-tj_e[j]) >= BIGM * (x_down[j,i,k]-1)\n",
    "            prob += y_down[j,i,k] >= 0\n",
    "                           \n",
    "#执行上行线路i前必须且仅有一个下行线路j（包括从上行线出库的情况）\n",
    "for i in range(1,M+1):\n",
    "    prob += lpSum(x_down[j,i,k] for k in range(1,MOTIVE_NUM+1) for j in range(0,N+1)) == 1\n",
    "# 执行下行线路j前必须且仅有一个上行线路i（包括从下行线出库的情况）\n",
    "for j in range(1,N+1):\n",
    "    prob += lpSum(x_up[i,j,k] for k in range(1,MOTIVE_NUM+1) for i in range(0,M+1)) == 1\n",
    "    \n",
    "# 列车的运行线路是连续的\n",
    "for k in range(1,MOTIVE_NUM+1):\n",
    "    for j in range(1,N+1):\n",
    "        prob += lpSum(x_up[i,j,k] for i in range(0,M+1)) <= lpSum(x_down[j,i,k] for i in range(1,M+2))\n",
    "    for i in range(1,M+1):\n",
    "        prob += lpSum(x_down[j,i,k] for j in range(0,N+1)) <= lpSum(x_up[i,j,k] for j in range(1,N+2))\n",
    "\n",
    "# 出库的车辆等于入库的车辆\n",
    "for k in range(1,MOTIVE_NUM+1):\n",
    "    prob += lpSum(x_up[0,j,k] for j in range(1,N+2))+lpSum(x_down[0,i,k] for i in range(1,M+2)) == xe[k]\n",
    "    prob += lpSum(x_up[i,N+1,k] for i in range(0,M+1))+lpSum(x_down[j,M+1,k] for j in range(0,N+1)) == xe[k]\n",
    "\n",
    "# 如果列车k不上线运行，则任意x_up[i,j,k],x_down[j,i,k]=0\n",
    "for k in range(1,MOTIVE_NUM + 1):\n",
    "    for i in range(0,M+1):\n",
    "        for j in range(1,N+2):\n",
    "            prob += x_up[i,j,k] <= xe[k]\n",
    "    for j in range(0,N+1):\n",
    "        for i in range(1,M+2):\n",
    "            prob += x_down[j,i,k] <= xe[k]\n",
    "\n",
    "#时光不能倒流\n",
    "for i in range(1,M+1):\n",
    "    for j in range(1,N+1):\n",
    "        if ti_emin[i-1] + theta_j  > tj_smax[j-1] :\n",
    "            # print(f\"上行{i}最早到达时间{ti_emin[i-1]},下行{j}最晚出发时间{tj_smax[j-1]} \")\n",
    "            for k in range(1,MOTIVE_NUM+1):\n",
    "                prob += x_up[i,j,k] == 0\n",
    "        if tj_emin[j-1] + theta_i  > ti_smax[i-1]:\n",
    "            # print(f\"下行{j}最早到达时间{tj_emin[j-1]},上行{i}最晚出发时间{ti_smax[i-1]}\")\n",
    "            for k in range(1,MOTIVE_NUM+1):\n",
    "                prob += x_down[j,i,k] == 0\n",
    "            \n",
    "#每辆车执行的任务数量<=8\n",
    "for k in range (1,MOTIVE_NUM+1):\n",
    "    prob += lpSum(x_up[i,j,k] for i in range(0,M+1) for j in range(1,N+2)) + lpSum(x_down[j,i,k] for i in range(1,M+2) for j in range(0,N+1)) <= 8\n",
    "    \n",
    "# 列车发车与到达的时间限制\n",
    "for i in range(1,M+1):\n",
    "    prob += ti_s[i] <= ti_smax[i-1]\n",
    "    prob += ti_smin[i-1] <= ti_s[i]\n",
    "    prob += ti_e[i] <= ti_emax[i-1]\n",
    "    prob += ti_emin[i-1] <= ti_e[i]\n",
    "for j in range(1,N+1):\n",
    "    prob += tj_s[j] <= tj_smax[j-1]\n",
    "    prob += tj_smin[j-1] <= tj_s[j]\n",
    "    prob += tj_e[j] <= tj_emax[j-1]\n",
    "    prob += tj_emin[j-1] <= tj_e[j]\n",
    "    \n",
    "# 最小时间间隔限制\n",
    "for i in range(1,M):\n",
    "    prob += ti_s[i+1] - ti_s[i] >= H_UP_MIN\n",
    "    prob += ti_e[i+1] - ti_e[i] >= H_UP_MIN\n",
    "for j in range(1,N):\n",
    "    prob += tj_s[j+1] - tj_s[j] >= H_DOWN_MIN\n",
    "    prob += tj_e[j+1] - tj_e[j] >= H_DOWN_MIN    \n",
    "\n",
    "# 牵引重量限制\n",
    "for i in range(1,M+1):\n",
    "    prob += lpSum(weight[k-1]*x_up[i,j,k] for k in range(1,MOTIVE_NUM+1) for j in range(1,N+2)) >= weight_trainup[i-1]\n",
    "    \n",
    "# 牵引重量限制\n",
    "for j in range(1,N+1):\n",
    "    prob += lpSum(weight[k-1]*x_down[j,i,k] for k in range(1,MOTIVE_NUM+1) for i in range(1,M+2)) >= weight_traindown[j-1]\n",
    "\n",
    "# 求解问题\n",
    "prob.solve()\n",
    "\n",
    "if LpStatus[prob.status] == \"Optimal\":  \n",
    "    print(\"找到最优解\")\n",
    "else:\n",
    "    print(\"No solution\")"
   ]
  },
  {
   "cell_type": "code",
   "execution_count": 24,
   "id": "2b8d4d1e",
   "metadata": {},
   "outputs": [
    {
     "name": "stdout",
     "output_type": "stream",
     "text": [
      "Best Motive number:4.0\n",
      "Shorest wait time:1591.0\n",
      "Train 1:\n"
     ]
    },
    {
     "data": {
      "text/plain": [
       "<Figure size 800x200 with 0 Axes>"
      ]
     },
     "metadata": {},
     "output_type": "display_data"
    },
    {
     "name": "stdout",
     "output_type": "stream",
     "text": [
      "Train 2:\n"
     ]
    },
    {
     "data": {
      "text/plain": [
       "<Figure size 800x200 with 0 Axes>"
      ]
     },
     "metadata": {},
     "output_type": "display_data"
    },
    {
     "name": "stdout",
     "output_type": "stream",
     "text": [
      "Train 3:\n"
     ]
    },
    {
     "data": {
      "text/plain": [
       "<Figure size 800x200 with 0 Axes>"
      ]
     },
     "metadata": {},
     "output_type": "display_data"
    },
    {
     "name": "stdout",
     "output_type": "stream",
     "text": [
      "Train 4:\n",
      "执行线路C3（down j=2）,离开A时间:8:31 到达B时间9:05 \n",
      "执行线路C9（down j=5）,离开A时间:11:06 到达B时间11:40 \n",
      "执行线路C4（up i=2）, 离开B时间:6:35 到达A时间7:08 \n",
      "执行线路C10（up i=5）, 离开B时间:10:07 到达A时间10:41 \n",
      "执行线路C14（up i=7）, 离开B时间:11:59 到达A时间12:29 \n"
     ]
    },
    {
     "data": {
      "image/png": "[encoded data removed]",
      "text/plain": [
       "<Figure size 800x200 with 1 Axes>"
      ]
     },
     "metadata": {},
     "output_type": "display_data"
    },
    {
     "name": "stdout",
     "output_type": "stream",
     "text": [
      "Train 5:\n",
      "执行线路C7（down j=4）,离开A时间:10:11 到达B时间10:52 \n",
      "执行线路C15（down j=8）,离开A时间:14:49 到达B时间15:23 \n",
      "执行线路C21（down j=11）,离开A时间:18:37 到达B时间19:10 \n",
      "执行线路C2（up i=1）, 离开B时间:6:17 到达A时间6:51 \n",
      "执行线路C16（up i=8）, 离开B时间:12:59 到达A时间13:33 \n",
      "执行线路C22（up i=11）, 离开B时间:16:12 到达A时间16:46 \n"
     ]
    },
    {
     "data": {
      "image/png": "[encoded data removed]",
      "text/plain": [
       "<Figure size 800x200 with 1 Axes>"
      ]
     },
     "metadata": {},
     "output_type": "display_data"
    },
    {
     "name": "stdout",
     "output_type": "stream",
     "text": [
      "Train 6:\n",
      "执行线路C11（down j=6）,离开A时间:12:10 到达B时间12:44 \n",
      "执行线路C19（down j=10）,离开A时间:17:20 到达B时间17:54 \n",
      "执行线路C23（down j=12）,离开A时间:20:55 到达B时间21:28 \n",
      "执行线路C8（up i=4）, 离开B时间:9:15 到达A时间9:56 \n",
      "执行线路C20（up i=10）, 离开B时间:15:39 到达A时间16:13 \n",
      "执行线路C24（up i=12）, 离开B时间:18:11 到达A时间18:48 \n"
     ]
    },
    {
     "data": {
      "image/png": "[encoded data removed]",
      "text/plain": [
       "<Figure size 800x200 with 1 Axes>"
      ]
     },
     "metadata": {},
     "output_type": "display_data"
    },
    {
     "name": "stdout",
     "output_type": "stream",
     "text": [
      "Train 7:\n"
     ]
    },
    {
     "data": {
      "text/plain": [
       "<Figure size 800x200 with 0 Axes>"
      ]
     },
     "metadata": {},
     "output_type": "display_data"
    },
    {
     "name": "stdout",
     "output_type": "stream",
     "text": [
      "Train 8:\n",
      "执行线路C1（down j=1）,离开A时间:6:13 到达B时间6:57 \n",
      "执行线路C5（down j=3）,离开A时间:9:29 到达B时间10:03 \n",
      "执行线路C13（down j=7）,离开A时间:12:49 到达B时间13:23 \n",
      "执行线路C17（down j=9）,离开A时间:15:06 到达B时间15:36 \n",
      "执行线路C6（up i=3）, 离开B时间:7:24 到达A时间7:58 \n",
      "执行线路C12（up i=6）, 离开B时间:11:15 到达A时间11:49 \n",
      "执行线路C18（up i=9）, 离开B时间:13:55 到达A时间14:29 \n"
     ]
    },
    {
     "data": {
      "image/png": "[encoded data removed]",
      "text/plain": [
       "<Figure size 800x200 with 1 Axes>"
      ]
     },
     "metadata": {},
     "output_type": "display_data"
    },
    {
     "name": "stdout",
     "output_type": "stream",
     "text": [
      "Train 9:\n"
     ]
    },
    {
     "data": {
      "text/plain": [
       "<Figure size 800x200 with 0 Axes>"
      ]
     },
     "metadata": {},
     "output_type": "display_data"
    }
   ],
   "source": [
    "# 满足车辆数量<=4的情况下，总空闲最短时间（求解时间约15分钟）\n",
    "print(f\"Best Motive number:{value(TotalMotive)}\")\n",
    "print(f\"Shorest wait time:{value(TotalWait)}\")\n",
    "import matplotlib.pyplot as plt\n",
    "if LpStatus[prob.status] == \"Optimal\":\n",
    "    for k in range(1,MOTIVE_NUM+1):\n",
    "        print(f\"Train {k}:\")\n",
    "        plt.figure(figsize = (8,2))\n",
    "        for i in range(0,M+1):\n",
    "            for j in range(1, N+1):\n",
    "                if value(x_up[i,j,k]) == 1:\n",
    "                    # 绘制带箭头的线段\n",
    "                    dx = value(tj_e[j]) - value(tj_s[j])\n",
    "                    dy = -2\n",
    "                    plt.arrow(value(tj_s[j]), 2, dx, dy, head_width=0.1, head_length=0.5, fc='red', ec='red')\n",
    "                    # 添加文字标签\n",
    "                    plt.text(value(tj_s[j])+dx/2, 1, f\"{downtrain.iloc[j-1]['车次']}\", ha='center', va='center')\n",
    "                    print(f\"执行线路{downtrain.iloc[j-1]['车次']}（down j={j}）,离开A时间:{min2time(value(tj_s[j]))} 到达B时间{min2time(value(tj_e[j]))} \")\n",
    "        for j in range(0,N+1):\n",
    "            for i in range(1, M+1):\n",
    "                if value(x_down[j,i,k]) == 1:\n",
    "                    # 绘制带箭头的线段\n",
    "                    dx = value(ti_e[i]) - value(ti_s[i])\n",
    "                    dy = 2\n",
    "                    plt.arrow(value(ti_s[i]), 0, dx, dy, head_width=0.1, head_length=0.5, fc='green', ec='green')\n",
    "                    plt.text(value(ti_s[i])+dx/2, 1, f\"{uptrain.iloc[i-1]['车次']}\", ha='center', va='center')\n",
    "                    print(f\"执行线路{uptrain.iloc[i-1]['车次']}（up i={i}）, 离开B时间:{min2time(value(ti_s[i]))} 到达A时间{min2time(value(ti_e[i]))} \")\n",
    "        plt.show()\n",
    "else:\n",
    "    print(\"No solution\")"
   ]
  },
  {
   "cell_type": "markdown",
   "id": "008a0ba9",
   "metadata": {},
   "source": [
    "可以看到，最短怠速时间 = 1591.0（分钟）"
   ]
  },
  {
   "cell_type": "code",
   "execution_count": null,
   "id": "5bb84719",
   "metadata": {},
   "outputs": [],
   "source": []
  }
 ],
 "metadata": {
  "kernelspec": {
   "display_name": "Python 3 (ipykernel)",
   "language": "python",
   "name": "python3"
  },
  "language_info": {
   "codemirror_mode": {
    "name": "ipython",
    "version": 3
   },
   "file_extension": ".py",
   "mimetype": "text/x-python",
   "name": "python",
   "nbconvert_exporter": "python",
   "pygments_lexer": "ipython3",
   "version": "3.10.9"
  }
 },
 "nbformat": 4,
 "nbformat_minor": 5
}
